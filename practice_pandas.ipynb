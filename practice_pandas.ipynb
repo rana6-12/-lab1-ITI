{
  "nbformat": 4,
  "nbformat_minor": 0,
  "metadata": {
    "colab": {
      "provenance": [],
      "authorship_tag": "ABX9TyMezO1ILUVk+S0AiwaXtwo2",
      "include_colab_link": true
    },
    "kernelspec": {
      "name": "python3",
      "display_name": "Python 3"
    },
    "language_info": {
      "name": "python"
    }
  },
  "cells": [
    {
      "cell_type": "markdown",
      "metadata": {
        "id": "view-in-github",
        "colab_type": "text"
      },
      "source": [
        "<a href=\"https://colab.research.google.com/github/rana6-12/-lab1-ITI/blob/main/practice_pandas.ipynb\" target=\"_parent\"><img src=\"https://colab.research.google.com/assets/colab-badge.svg\" alt=\"Open In Colab\"/></a>"
      ]
    },
    {
      "cell_type": "markdown",
      "source": [
        "**# Step 1: Mount Google Drive**"
      ],
      "metadata": {
        "id": "5pZL-7CJ1g6e"
      }
    },
    {
      "cell_type": "code",
      "execution_count": 1,
      "metadata": {
        "colab": {
          "base_uri": "https://localhost:8080/"
        },
        "id": "QUS8pyoh0tiC",
        "outputId": "1bb4acc1-0b05-4885-e78a-c46190be8332"
      },
      "outputs": [
        {
          "output_type": "stream",
          "name": "stdout",
          "text": [
            "Mounted at /content/drive\n"
          ]
        }
      ],
      "source": [
        "\n",
        "from google.colab import drive\n",
        "drive.mount('/content/drive')\n",
        "\n"
      ]
    },
    {
      "cell_type": "markdown",
      "source": [
        "**# Step 2: Import pandas & Numpy**"
      ],
      "metadata": {
        "id": "VMGb9v9H1m96"
      }
    },
    {
      "cell_type": "code",
      "source": [
        "import pandas as pd\n",
        "import numpy as np"
      ],
      "metadata": {
        "id": "FIeySv_-1ox7"
      },
      "execution_count": 3,
      "outputs": []
    },
    {
      "cell_type": "code",
      "source": [
        "file_path = ('/content/drive/MyDrive/New folder/Purchase_Data.csv')\n",
        "df = pd.read_csv(file_path)\n"
      ],
      "metadata": {
        "id": "_L2h-qSj16AH"
      },
      "execution_count": 12,
      "outputs": []
    },
    {
      "cell_type": "code",
      "source": [
        "print(\"CSV file loaded successfully! Here are the first few rows:\")\n",
        "print(df.head())"
      ],
      "metadata": {
        "colab": {
          "base_uri": "https://localhost:8080/"
        },
        "id": "J7G7ApzU7RpJ",
        "outputId": "a99d0603-7bcd-4b99-99e6-f95098957c27"
      },
      "execution_count": 13,
      "outputs": [
        {
          "output_type": "stream",
          "name": "stdout",
          "text": [
            "CSV file loaded successfully! Here are the first few rows:\n",
            "   invoice_number   invoice_time store_id  product_id  category_id  num_item  \\\n",
            "0    2.020000e+11  7/15/15 10:45     G816     7000300       210101       1.0   \n",
            "1    2.020000e+11  7/15/15 12:16     G816     7070884        70203       1.0   \n",
            "2    2.020000e+11  7/15/15 12:16     G816     7070884        70203       1.0   \n",
            "3    2.020000e+11  7/15/15 12:16     G816     7070891        70401       1.0   \n",
            "4    2.020000e+11  7/15/15 12:16     G816     7090363        70401       1.0   \n",
            "\n",
            "   price  \n",
            "0    2.0  \n",
            "1    2.0  \n",
            "2    2.0  \n",
            "3    6.0  \n",
            "4    6.0  \n"
          ]
        }
      ]
    },
    {
      "cell_type": "code",
      "source": [
        "file_path = ('/content/drive/MyDrive/New folder/Titanic.csv')\n",
        "df = pd.read_csv(file_path)"
      ],
      "metadata": {
        "id": "qVyhJN3z8orm"
      },
      "execution_count": 14,
      "outputs": []
    },
    {
      "cell_type": "code",
      "source": [
        "print(\"CSV file loaded successfully! Here are the first few rows:\")\n",
        "print(df.head())"
      ],
      "metadata": {
        "colab": {
          "base_uri": "https://localhost:8080/"
        },
        "id": "Ldsxoh1M8q5A",
        "outputId": "001d3c94-61a6-4b7e-937a-a0c9d1f1785f"
      },
      "execution_count": 15,
      "outputs": [
        {
          "output_type": "stream",
          "name": "stdout",
          "text": [
            "CSV file loaded successfully! Here are the first few rows:\n",
            "   PassengerId  Pclass                                          Name     Sex  \\\n",
            "0          892       3                              Kelly, Mr. James    male   \n",
            "1          893       3              Wilkes, Mrs. James (Ellen Needs)  female   \n",
            "2          894       2                     Myles, Mr. Thomas Francis    male   \n",
            "3          895       3                              Wirz, Mr. Albert    male   \n",
            "4          896       3  Hirvonen, Mrs. Alexander (Helga E Lindqvist)  female   \n",
            "\n",
            "    Age  SibSp  Parch   Ticket     Fare Cabin Embarked  \n",
            "0  34.5      0      0   330911   7.8292   NaN        Q  \n",
            "1  47.0      1      0   363272   7.0000   NaN        S  \n",
            "2  62.0      0      0   240276   9.6875   NaN        Q  \n",
            "3  27.0      0      0   315154   8.6625   NaN        S  \n",
            "4  22.0      1      1  3101298  12.2875   NaN        S  \n"
          ]
        }
      ]
    },
    {
      "cell_type": "markdown",
      "source": [
        "**Part 1**"
      ],
      "metadata": {
        "id": "xKdLkMADBEuC"
      }
    },
    {
      "cell_type": "markdown",
      "source": [
        "****"
      ],
      "metadata": {
        "id": "cHu22UrE_qRQ"
      }
    },
    {
      "cell_type": "markdown",
      "metadata": {
        "id": "eHJTUURc0KA_"
      },
      "source": [
        "Use the dtypes attribute to view how each column is stored"
      ]
    },
    {
      "cell_type": "code",
      "source": [
        "print(df.dtypes)\n"
      ],
      "metadata": {
        "colab": {
          "base_uri": "https://localhost:8080/"
        },
        "id": "7wTXDpl0_osi",
        "outputId": "dc4f83ce-b094-48d4-c7bf-753c062191c2"
      },
      "execution_count": 16,
      "outputs": [
        {
          "output_type": "stream",
          "name": "stdout",
          "text": [
            "PassengerId      int64\n",
            "Pclass           int64\n",
            "Name            object\n",
            "Sex             object\n",
            "Age            float64\n",
            "SibSp            int64\n",
            "Parch            int64\n",
            "Ticket          object\n",
            "Fare           float64\n",
            "Cabin           object\n",
            "Embarked        object\n",
            "dtype: object\n"
          ]
        }
      ]
    },
    {
      "cell_type": "markdown",
      "source": [
        "****"
      ],
      "metadata": {
        "id": "mJRoWrwR_1Z5"
      }
    },
    {
      "cell_type": "markdown",
      "metadata": {
        "id": "nW9vxA8D0KBB"
      },
      "source": [
        "Slice the first two columns using .loc and store the result in a variable called result_1."
      ]
    },
    {
      "cell_type": "code",
      "source": [
        "\n",
        "result_1 = df.loc[:, df.columns[0:2]]\n",
        "\n",
        "print(result_1)\n"
      ],
      "metadata": {
        "colab": {
          "base_uri": "https://localhost:8080/"
        },
        "id": "oTKuOxnY_6OA",
        "outputId": "1f42c982-347a-488e-84b5-59d42df620c8"
      },
      "execution_count": 17,
      "outputs": [
        {
          "output_type": "stream",
          "name": "stdout",
          "text": [
            "     PassengerId  Pclass\n",
            "0            892       3\n",
            "1            893       3\n",
            "2            894       2\n",
            "3            895       3\n",
            "4            896       3\n",
            "..           ...     ...\n",
            "413         1305       3\n",
            "414         1306       1\n",
            "415         1307       3\n",
            "416         1308       3\n",
            "417         1309       3\n",
            "\n",
            "[418 rows x 2 columns]\n"
          ]
        }
      ]
    },
    {
      "cell_type": "markdown",
      "source": [
        "****"
      ],
      "metadata": {
        "id": "W4vxERQ6AEbW"
      }
    },
    {
      "cell_type": "markdown",
      "metadata": {
        "id": "aFB980IW0KBD"
      },
      "source": [
        "Slice the first two rows using .loc and store the result in a variable called result_2."
      ]
    },
    {
      "cell_type": "code",
      "source": [
        "result_2 = df.loc[0:1, :]   # من الصف 0 لحد الصف 1 (أول صفين)\n",
        "print(result_2)\n"
      ],
      "metadata": {
        "colab": {
          "base_uri": "https://localhost:8080/"
        },
        "id": "7Px2Vv_tAKSl",
        "outputId": "f9e87d8b-c734-4356-8a9d-860925c7e901"
      },
      "execution_count": 18,
      "outputs": [
        {
          "output_type": "stream",
          "name": "stdout",
          "text": [
            "   PassengerId  Pclass                              Name     Sex   Age  SibSp  \\\n",
            "0          892       3                  Kelly, Mr. James    male  34.5      0   \n",
            "1          893       3  Wilkes, Mrs. James (Ellen Needs)  female  47.0      1   \n",
            "\n",
            "   Parch  Ticket    Fare Cabin Embarked  \n",
            "0      0  330911  7.8292   NaN        Q  \n",
            "1      0  363272  7.0000   NaN        S  \n"
          ]
        }
      ]
    },
    {
      "cell_type": "markdown",
      "source": [
        "****"
      ],
      "metadata": {
        "id": "AHVJGbDBAWqL"
      }
    },
    {
      "cell_type": "markdown",
      "metadata": {
        "id": "vesLLKdc0KBE"
      },
      "source": [
        "Slice the first four rows and the first five columns and store the result in a variable called result_3."
      ]
    },
    {
      "cell_type": "code",
      "source": [
        "result_3 = df.loc[0:3, df.columns[0:5]]\n",
        "print(result_3)\n"
      ],
      "metadata": {
        "colab": {
          "base_uri": "https://localhost:8080/"
        },
        "id": "8dVs1ykmAYf7",
        "outputId": "c4bbce25-5144-4053-c243-c88a1a07240c"
      },
      "execution_count": 19,
      "outputs": [
        {
          "output_type": "stream",
          "name": "stdout",
          "text": [
            "   PassengerId  Pclass                              Name     Sex   Age\n",
            "0          892       3                  Kelly, Mr. James    male  34.5\n",
            "1          893       3  Wilkes, Mrs. James (Ellen Needs)  female  47.0\n",
            "2          894       2         Myles, Mr. Thomas Francis    male  62.0\n",
            "3          895       3                  Wirz, Mr. Albert    male  27.0\n"
          ]
        }
      ]
    },
    {
      "cell_type": "markdown",
      "metadata": {
        "id": "ToiR7kvE0KBF"
      },
      "source": [
        "Slice rows 0,4,6 and columns invoice time and price and store the result in variable called result_4."
      ]
    },
    {
      "cell_type": "code",
      "source": [
        "result_4 = df.loc[[0, 4, 6], ['Name', 'Age']]\n",
        "print(result_4)"
      ],
      "metadata": {
        "colab": {
          "base_uri": "https://localhost:8080/"
        },
        "id": "5uFTYGpeAjKq",
        "outputId": "4e830474-de6e-4ccd-a143-622ca33ac651"
      },
      "execution_count": 21,
      "outputs": [
        {
          "output_type": "stream",
          "name": "stdout",
          "text": [
            "                                           Name   Age\n",
            "0                              Kelly, Mr. James  34.5\n",
            "4  Hirvonen, Mrs. Alexander (Helga E Lindqvist)  22.0\n",
            "6                          Connolly, Miss. Kate  30.0\n"
          ]
        }
      ]
    },
    {
      "cell_type": "markdown",
      "source": [
        "****"
      ],
      "metadata": {
        "id": "dljl9X_oAwfM"
      }
    },
    {
      "cell_type": "markdown",
      "metadata": {
        "id": "bNx8vvb50KBG"
      },
      "source": [
        "Store the number rows in a variable called num_rows."
      ]
    },
    {
      "cell_type": "code",
      "source": [
        "num_rows = len(df)\n",
        "print(num_rows)\n"
      ],
      "metadata": {
        "colab": {
          "base_uri": "https://localhost:8080/"
        },
        "id": "qbm-kPNKAzkC",
        "outputId": "a22e7a2d-99f4-421c-b915-ecbcea9b0d48"
      },
      "execution_count": 22,
      "outputs": [
        {
          "output_type": "stream",
          "name": "stdout",
          "text": [
            "418\n"
          ]
        }
      ]
    },
    {
      "cell_type": "markdown",
      "source": [
        "****"
      ],
      "metadata": {
        "id": "n0qTaEsdA4Ss"
      }
    },
    {
      "cell_type": "markdown",
      "metadata": {
        "id": "hgZWMeEE0KBH"
      },
      "source": [
        "Print out the last row of the data to dataframe. **Hint:** use the variable num_rows from the previous exercise."
      ]
    },
    {
      "cell_type": "code",
      "source": [
        "last_row = df.loc[num_rows - 1, :]\n",
        "print(last_row)\n"
      ],
      "metadata": {
        "colab": {
          "base_uri": "https://localhost:8080/"
        },
        "id": "qzjxQlY7A6iT",
        "outputId": "b91cb213-6eb5-467b-d585-c15fea6612f6"
      },
      "execution_count": 23,
      "outputs": [
        {
          "output_type": "stream",
          "name": "stdout",
          "text": [
            "PassengerId                        1309\n",
            "Pclass                                3\n",
            "Name           Peter, Master. Michael J\n",
            "Sex                                male\n",
            "Age                                 NaN\n",
            "SibSp                                 1\n",
            "Parch                                 1\n",
            "Ticket                             2668\n",
            "Fare                            22.3583\n",
            "Cabin                               NaN\n",
            "Embarked                              C\n",
            "Name: 417, dtype: object\n"
          ]
        }
      ]
    },
    {
      "cell_type": "markdown",
      "source": [
        "**Part 2**"
      ],
      "metadata": {
        "id": "fAJuEKjPA_af"
      }
    },
    {
      "cell_type": "markdown",
      "source": [
        "****"
      ],
      "metadata": {
        "id": "HYdaNQwzBCA_"
      }
    },
    {
      "cell_type": "markdown",
      "metadata": {
        "id": "u-_VCbCZ0KBH"
      },
      "source": [
        "Compute the average and max price charged.  Store the results in variables called avg_price and max_price"
      ]
    },
    {
      "cell_type": "code",
      "source": [
        "avg_price = df['Fare'].mean()   # المتوسط\n",
        "max_price = df['Fare'].max()    # أكبر قيمة\n",
        "\n",
        "print(\"Average Fare:\", avg_price)\n",
        "print(\"Max Fare:\", max_price)"
      ],
      "metadata": {
        "colab": {
          "base_uri": "https://localhost:8080/"
        },
        "id": "759aP3smBOPf",
        "outputId": "98f3878d-d187-4f7e-e521-a1a8f0123095"
      },
      "execution_count": 25,
      "outputs": [
        {
          "output_type": "stream",
          "name": "stdout",
          "text": [
            "Average Fare: 35.627188489208635\n",
            "Max Fare: 512.3292\n"
          ]
        }
      ]
    },
    {
      "cell_type": "markdown",
      "source": [
        "****"
      ],
      "metadata": {
        "id": "BfpNbNGwCHLX"
      }
    },
    {
      "cell_type": "markdown",
      "metadata": {
        "id": "Fqw8oaZQ0KBI"
      },
      "source": [
        "Compute the average price and average number of items purchased with only a single call to the mean() method. Store these averages in avg_price and avg_num_items."
      ]
    },
    {
      "cell_type": "code",
      "source": [
        "averages = df[['Fare', 'SibSp', 'Parch']].mean()\n",
        "\n",
        "avg_fare = averages['Fare']\n",
        "avg_sibsp = averages['SibSp']\n",
        "avg_parch = averages['Parch']\n",
        "\n",
        "print(\"Average Fare:\", avg_fare)\n",
        "print(\"Average number of siblings/spouses:\", avg_sibsp)\n",
        "print(\"Average number of parents/children:\", avg_parch)"
      ],
      "metadata": {
        "colab": {
          "base_uri": "https://localhost:8080/"
        },
        "id": "bYxXIlgpCI-_",
        "outputId": "9cbe351d-68bd-49c1-87cc-2dcc6b018113"
      },
      "execution_count": 27,
      "outputs": [
        {
          "output_type": "stream",
          "name": "stdout",
          "text": [
            "Average Fare: 35.627188489208635\n",
            "Average number of siblings/spouses: 0.4473684210526316\n",
            "Average number of parents/children: 0.3923444976076555\n"
          ]
        }
      ]
    }
  ]
}