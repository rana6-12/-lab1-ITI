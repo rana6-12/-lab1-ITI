{
  "nbformat": 4,
  "nbformat_minor": 0,
  "metadata": {
    "colab": {
      "provenance": [],
      "authorship_tag": "ABX9TyNGkRUjA899lsDdHMrMivrF",
      "include_colab_link": true
    },
    "kernelspec": {
      "name": "python3",
      "display_name": "Python 3"
    },
    "language_info": {
      "name": "python"
    }
  },
  "cells": [
    {
      "cell_type": "markdown",
      "metadata": {
        "id": "view-in-github",
        "colab_type": "text"
      },
      "source": [
        "<a href=\"https://colab.research.google.com/github/rana6-12/-lab1-ITI/blob/main/Session1.ipynb\" target=\"_parent\"><img src=\"https://colab.research.google.com/assets/colab-badge.svg\" alt=\"Open In Colab\"/></a>"
      ]
    },
    {
      "cell_type": "markdown",
      "source": [
        "# **Q1**"
      ],
      "metadata": {
        "id": "O4cr06uVoaLn"
      }
    },
    {
      "cell_type": "code",
      "execution_count": null,
      "metadata": {
        "colab": {
          "base_uri": "https://localhost:8080/"
        },
        "id": "diX-PLdEauB-",
        "outputId": "6b518b9a-d800-45cf-a438-5af16bd57c36"
      },
      "outputs": [
        {
          "output_type": "stream",
          "name": "stdout",
          "text": [
            "a) num1 + num2 = 3 + 4 = 7\n",
            "b) num3 - num1 = 5 - 3 = 2\n",
            "c) num1 * num2 + num3 = 3 * 4 + 5 = 17\n",
            "d) num1 * (num2 + num3) = 3 * ( 4 + 5 ) = 27\n",
            "e) num3 / num1 = 5 / 3 = 1.6666666666666667\n",
            "f) num3 // num1 = 5 // 3 = 1\n",
            "g) num3 % num1 = 5 % 3 = 2\n",
            "\n",
            "-- Repeating with float values --\n",
            "a) num1 + num2 = 7.0\n",
            "b) num3 - num1 = 2.0\n",
            "c) num1 * num2 + num3 = 17.0\n",
            "d) num1 * (num2 + num3) = 27.0\n",
            "e) num3 / num1 = 1.6666666666666667\n",
            "f) num3 // num1 = 1.0\n",
            "g) num3 % num1 = 2.0\n"
          ]
        }
      ],
      "source": [
        "# Q1\n",
        "# Create variables\n",
        "num1 = 3\n",
        "num2 = 4\n",
        "num3 = 5\n",
        "\n",
        "# a\n",
        "print(\"a) num1 + num2 =\", num1, \"+\", num2, \"=\", num1 + num2)\n",
        "\n",
        "# b\n",
        "print(\"b) num3 - num1 =\", num3, \"-\", num1, \"=\", num3 - num1)\n",
        "\n",
        "# c\n",
        "print(\"c) num1 * num2 + num3 =\", num1, \"*\", num2, \"+\", num3, \"=\", num1 * num2 + num3)\n",
        "\n",
        "# d\n",
        "print(\"d) num1 * (num2 + num3) =\", num1, \"*\", \"(\", num2, \"+\", num3, \")\", \"=\", num1 * (num2 + num3))\n",
        "\n",
        "# e\n",
        "print(\"e) num3 / num1 =\", num3, \"/\", num1, \"=\", num3 / num1)\n",
        "\n",
        "# f\n",
        "print(\"f) num3 // num1 =\", num3, \"//\", num1, \"=\", num3 // num1)\n",
        "\n",
        "# g\n",
        "print(\"g) num3 % num1 =\", num3, \"%\", num1, \"=\", num3 % num1)\n",
        "\n",
        "# h) Convert to float and repeat\n",
        "num1 = float(num1)\n",
        "num2 = float(num2)\n",
        "num3 = float(num3)\n",
        "\n",
        "print(\"\\n-- Repeating with float values --\")\n",
        "print(\"a) num1 + num2 =\", num1 + num2)\n",
        "print(\"b) num3 - num1 =\", num3 - num1)\n",
        "print(\"c) num1 * num2 + num3 =\", num1 * num2 + num3)\n",
        "print(\"d) num1 * (num2 + num3) =\", num1 * (num2 + num3))\n",
        "print(\"e) num3 / num1 =\", num3 / num1)\n",
        "print(\"f) num3 // num1 =\", num3 // num1)\n",
        "print(\"g) num3 % num1 =\", num3 % num1)"
      ]
    },
    {
      "cell_type": "markdown",
      "source": [
        "**Q2**"
      ],
      "metadata": {
        "id": "xVILRHI-oTtT"
      }
    },
    {
      "cell_type": "code",
      "source": [
        "# Q2\n",
        "x = 1\n",
        "y = 2\n",
        "z = 3\n",
        "g = 4\n",
        "\n",
        "# a\n",
        "print(\"\\nQ2 a) x + y * z / g =\", x, \"+\", y, \"*\", z, \"/\", g, \"=\", x + y * z / g)\n",
        "\n",
        "# b\n",
        "print(\"Q2 b) y ** z =\", y, \"**\", z, \"=\", y ** z)"
      ],
      "metadata": {
        "colab": {
          "base_uri": "https://localhost:8080/"
        },
        "id": "0djmEdamn44V",
        "outputId": "faeb7d72-b4c2-46b0-cf0d-c159634c980d"
      },
      "execution_count": null,
      "outputs": [
        {
          "output_type": "stream",
          "name": "stdout",
          "text": [
            "\n",
            "Q2 a) x + y * z / g = 1 + 2 * 3 / 4 = 2.5\n",
            "Q2 b) y ** z = 2 ** 3 = 8\n"
          ]
        }
      ]
    },
    {
      "cell_type": "markdown",
      "source": [
        "**Q3**"
      ],
      "metadata": {
        "id": "FhHBIgkHpLLz"
      }
    },
    {
      "cell_type": "code",
      "source": [
        "# Q3\n",
        "# إنشاء المتغيرات\n",
        "str_a = \"Python\"\n",
        "str_b = \"is a\"\n",
        "str_c = \"times fun language\"\n",
        "num = 1000\n",
        "\n",
        "str_ab = str_a + \" \" + str_b + \" \" + str(num) + \" \" + str_c\n",
        "print(\"a) str_ab =\", str_ab)\n",
        "\n",
        "# b) تكرار str_a عشر مرات وتخزينه في str_a10\n",
        "str_a10 = str_a * 10\n",
        "print(\"b) str_a10 =\", str_a10)\n"
      ],
      "metadata": {
        "colab": {
          "base_uri": "https://localhost:8080/"
        },
        "id": "RCtb3HLcpNFY",
        "outputId": "d7c57f7c-967a-40f2-cc55-7249919bd94b"
      },
      "execution_count": null,
      "outputs": [
        {
          "output_type": "stream",
          "name": "stdout",
          "text": [
            "a) str_ab = Python is a 1000 times fun language\n",
            "b) str_a10 = PythonPythonPythonPythonPythonPythonPythonPythonPythonPython\n"
          ]
        }
      ]
    },
    {
      "cell_type": "markdown",
      "source": [
        "#**Odd** or **Even**"
      ],
      "metadata": {
        "id": "loB6sBV6poT0"
      }
    },
    {
      "cell_type": "code",
      "source": [
        "# Ask the user for a number\n",
        "num = int(input(\"Enter a number: \"))\n",
        "\n",
        "# Check if the number is even or odd\n",
        "if num % 2 == 0:\n",
        "    print(num, \"is Even\")\n",
        "else:\n",
        "    print(num, \"is Odd\")"
      ],
      "metadata": {
        "colab": {
          "base_uri": "https://localhost:8080/"
        },
        "id": "fW_L06FOpr0q",
        "outputId": "0a72ab47-fa28-4fce-a03e-317b8490eb6b"
      },
      "execution_count": null,
      "outputs": [
        {
          "output_type": "stream",
          "name": "stdout",
          "text": [
            "Enter a number: 2\n",
            "2 is Even\n"
          ]
        }
      ]
    },
    {
      "cell_type": "markdown",
      "source": [
        "#**Pass** or **Fail**"
      ],
      "metadata": {
        "id": "YqpIrJz_p32i"
      }
    },
    {
      "cell_type": "code",
      "source": [
        "# Ask the user for the score\n",
        "score = float(input(\"Enter the student's score (0-100): \"))\n",
        "\n",
        "# Check if the score is Pass or Fail\n",
        "if score >= 50:\n",
        "    print(\"Pass\")\n",
        "else:\n",
        "    print(\"Fail\")"
      ],
      "metadata": {
        "colab": {
          "base_uri": "https://localhost:8080/"
        },
        "id": "30_0rIvFp7Fi",
        "outputId": "65d9660f-0396-4a85-9a7d-f3adf74945b6"
      },
      "execution_count": null,
      "outputs": [
        {
          "output_type": "stream",
          "name": "stdout",
          "text": [
            "Enter the student's score (0-100): 80\n",
            "Pass\n"
          ]
        }
      ]
    },
    {
      "cell_type": "markdown",
      "source": [
        "#**Largest  Number**"
      ],
      "metadata": {
        "id": "aFvFKzuPqM_B"
      }
    },
    {
      "cell_type": "code",
      "source": [
        "# Take 3 numbers as input\n",
        "num1 = float(input(\"Enter first number: \"))\n",
        "num2 = float(input(\"Enter second number: \"))\n",
        "num3 = float(input(\"Enter third number: \"))\n",
        "\n",
        "# Find the largest number\n",
        "if num1 >= num2 and num1 >= num3:\n",
        "    largest = num1\n",
        "elif num2 >= num1 and num2 >= num3:\n",
        "    largest = num2\n",
        "else:\n",
        "    largest = num3\n",
        "\n",
        "# Print the result\n",
        "print(\"The largest number is:\", largest)\n"
      ],
      "metadata": {
        "colab": {
          "base_uri": "https://localhost:8080/"
        },
        "id": "s_M7GwJmqNiW",
        "outputId": "31463668-7bb3-44bf-aed6-4b9845ff1e5c"
      },
      "execution_count": null,
      "outputs": [
        {
          "output_type": "stream",
          "name": "stdout",
          "text": [
            "Enter first number: 2\n",
            "Enter second number: 10\n",
            "Enter third number: 8\n",
            "The largest number is: 10.0\n"
          ]
        }
      ]
    },
    {
      "cell_type": "markdown",
      "source": [
        "#**Counting** **with** **for**"
      ],
      "metadata": {
        "id": "EcSeyZmFqlho"
      }
    },
    {
      "cell_type": "code",
      "source": [
        "# Print numbers from 1 to 10\n",
        "for i in range(1, 11):\n",
        "    print(i)"
      ],
      "metadata": {
        "colab": {
          "base_uri": "https://localhost:8080/"
        },
        "id": "lmwU0oEop17l",
        "outputId": "5050e7b0-bdf1-4543-89a3-8642cbd70f97"
      },
      "execution_count": null,
      "outputs": [
        {
          "output_type": "stream",
          "name": "stdout",
          "text": [
            "1\n",
            "2\n",
            "3\n",
            "4\n",
            "5\n",
            "6\n",
            "7\n",
            "8\n",
            "9\n",
            "10\n"
          ]
        }
      ]
    },
    {
      "cell_type": "markdown",
      "source": [
        "#**Grade** **Calculator**"
      ],
      "metadata": {
        "id": "NKuV0e1Pq219"
      }
    },
    {
      "cell_type": "code",
      "source": [
        "# Ask the user for the score\n",
        "score = float(input(\"Enter the score (0-100): \"))\n",
        "\n",
        "# Determine the grade\n",
        "if 90 <= score <= 100:\n",
        "    grade = \"A\"\n",
        "elif 80 <= score <= 89:\n",
        "    grade = \"B\"\n",
        "elif 70 <= score <= 79:\n",
        "    grade = \"C\"\n",
        "elif 60 <= score <= 69:\n",
        "    grade = \"D\"\n",
        "elif 0 <= score < 60:\n",
        "    grade = \"F\"\n",
        "else:\n",
        "    grade = \"Invalid score\"\n",
        "\n",
        "# Print the grade\n",
        "print(\"Grade:\", grade)\n"
      ],
      "metadata": {
        "colab": {
          "base_uri": "https://localhost:8080/"
        },
        "id": "XeFKN1-yq4Tr",
        "outputId": "529df9df-aed7-41b1-8caf-a480b7fad6f8"
      },
      "execution_count": null,
      "outputs": [
        {
          "output_type": "stream",
          "name": "stdout",
          "text": [
            "Enter the score (0-100): 60\n",
            "Grade: D\n"
          ]
        }
      ]
    },
    {
      "cell_type": "markdown",
      "source": [
        "#**Multiplication** **Table**"
      ],
      "metadata": {
        "id": "u6ZBheY4rHEm"
      }
    },
    {
      "cell_type": "code",
      "source": [
        "# Ask the user for a number\n",
        "num = int(input(\"Enter a number: \"))\n",
        "\n",
        "# Print multiplication table\n",
        "print(f\"\\nMultiplication Table for {num}:\")\n",
        "for i in range(1, 11):\n",
        "    result = num * i\n",
        "    print(f\"{num} x {i} = {result}\")\n",
        "\n"
      ],
      "metadata": {
        "colab": {
          "base_uri": "https://localhost:8080/"
        },
        "id": "kbOSYg0lrI_6",
        "outputId": "97534afb-4013-4a58-bbec-600e4c6cb247"
      },
      "execution_count": null,
      "outputs": [
        {
          "output_type": "stream",
          "name": "stdout",
          "text": [
            "Enter a number: 2\n",
            "\n",
            "Multiplication Table for 2:\n",
            "2 x 1 = 2\n",
            "2 x 2 = 4\n",
            "2 x 3 = 6\n",
            "2 x 4 = 8\n",
            "2 x 5 = 10\n",
            "2 x 6 = 12\n",
            "2 x 7 = 14\n",
            "2 x 8 = 16\n",
            "2 x 9 = 18\n",
            "2 x 10 = 20\n"
          ]
        }
      ]
    },
    {
      "cell_type": "markdown",
      "source": [
        "#**Sum** **of** **Even** **Numbers**"
      ],
      "metadata": {
        "id": "Uf0DORlYrVDh"
      }
    },
    {
      "cell_type": "code",
      "source": [
        "# Initialize sum\n",
        "total = 0\n",
        "\n",
        "# Loop through numbers from 1 to 50\n",
        "for num in range(1, 51):\n",
        "    if num % 2 == 0:\n",
        "        total += num\n",
        "\n",
        "# Print the result\n",
        "print(\"Sum of even numbers between 1 and 50 is:\", total)\n"
      ],
      "metadata": {
        "colab": {
          "base_uri": "https://localhost:8080/"
        },
        "id": "_IXttO5frYBc",
        "outputId": "c961d84e-7e38-489e-c847-6d4f4984864c"
      },
      "execution_count": null,
      "outputs": [
        {
          "output_type": "stream",
          "name": "stdout",
          "text": [
            "Sum of even numbers between 1 and 50 is: 650\n"
          ]
        }
      ]
    },
    {
      "cell_type": "markdown",
      "source": [
        "#**Factorial** **with** **while**"
      ],
      "metadata": {
        "id": "4PJCGn2Nrg2O"
      }
    },
    {
      "cell_type": "code",
      "source": [
        "# Ask the user for a number\n",
        "num = int(input(\"Enter a number: \"))\n",
        "\n",
        "# Initialize variables\n",
        "factorial = 1\n",
        "count = 1\n",
        "\n",
        "# Calculate factorial using while loop\n",
        "while count <= num:\n",
        "    factorial *= count\n",
        "    count += 1\n",
        "\n",
        "# Print the result\n",
        "print(f\"Factorial of {num} is {factorial}\")\n"
      ],
      "metadata": {
        "colab": {
          "base_uri": "https://localhost:8080/"
        },
        "id": "IcjNWlrari-f",
        "outputId": "5cb0d905-8daa-4fd9-cf27-4c2ab8bc3ac1"
      },
      "execution_count": null,
      "outputs": [
        {
          "output_type": "stream",
          "name": "stdout",
          "text": [
            "Enter a number: 3\n",
            "Factorial of 3 is 6\n"
          ]
        }
      ]
    }
  ]
}