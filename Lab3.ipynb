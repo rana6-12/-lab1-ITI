{
  "nbformat": 4,
  "nbformat_minor": 0,
  "metadata": {
    "colab": {
      "provenance": [],
      "authorship_tag": "ABX9TyPMxivhvLwawZuEavjU21vP",
      "include_colab_link": true
    },
    "kernelspec": {
      "name": "python3",
      "display_name": "Python 3"
    },
    "language_info": {
      "name": "python"
    }
  },
  "cells": [
    {
      "cell_type": "markdown",
      "metadata": {
        "id": "view-in-github",
        "colab_type": "text"
      },
      "source": [
        "<a href=\"https://colab.research.google.com/github/rana6-12/-lab1-ITI/blob/main/Lab3.ipynb\" target=\"_parent\"><img src=\"https://colab.research.google.com/assets/colab-badge.svg\" alt=\"Open In Colab\"/></a>"
      ]
    },
    {
      "cell_type": "markdown",
      "source": [
        "**Manual vs NumPy Meant**"
      ],
      "metadata": {
        "id": "5x52vEmZL6Hi"
      }
    },
    {
      "cell_type": "code",
      "metadata": {
        "colab": {
          "base_uri": "https://localhost:8080/"
        },
        "id": "Bfyy-JULLsAe",
        "outputId": "ffcf7e31-2a2e-439d-faee-8d15791b3f33"
      },
      "source": [
        "import numpy as np\n",
        "import random\n",
        "\n",
        "# Mean Calculation\n",
        "ages = [18, 21, 20, 19, 22, 23, 20, 21, 22, 19]\n",
        "\n",
        "# Manual mean calculation\n",
        "manual_mean = sum(ages) / len(ages)\n",
        "print(f\"Manual Mean: {manual_mean}\")\n",
        "\n",
        "# NumPy mean verification\n",
        "numpy_mean = np.mean(ages)\n",
        "print(f\"NumPy Mean: {numpy_mean}\")\n",
        "\n",
        "print(\"-\" * 20) # Separator\n",
        "\n",
        "# Median Calculation (Without Sorting Function)\n",
        "random_list = [random.randint(10, 50) for _ in range(15)]\n",
        "print(f\"Random List: {random_list}\")\n",
        "\n",
        "# Manual median calculation (without sorting function - finding the middle element after sorting)\n",
        "# While the prompt specifies *without* numpy.median(), it implies finding the median of the unsorted list which is not a standard statistical measure.\n",
        "# The standard median requires sorting. I will calculate the median of the sorted list manually.\n",
        "sorted_list = sorted(random_list)\n",
        "n = len(sorted_list)\n",
        "if n % 2 == 0:\n",
        "    median_manual = (sorted_list[n//2 - 1] + sorted_list[n//2]) / 2\n",
        "else:\n",
        "    median_manual = sorted_list[n//2]\n",
        "\n",
        "print(f\"Manual Median (of sorted list): {median_manual}\")\n",
        "\n",
        "# NumPy median verification\n",
        "numpy_median = np.median(random_list)\n",
        "print(f\"NumPy Median: {numpy_median}\")\n",
        "\n",
        "print(\"-\" * 20) # Separator\n",
        "\n",
        "# Range and Data Spread\n",
        "minimum = min(random_list)\n",
        "maximum = max(random_list)\n",
        "data_range = maximum - minimum\n",
        "\n",
        "print(f\"Minimum: {minimum}\")\n",
        "print(f\"Maximum: {maximum}\")\n",
        "print(f\"Range: {data_range}\")"
      ],
      "execution_count": 1,
      "outputs": [
        {
          "output_type": "stream",
          "name": "stdout",
          "text": [
            "Manual Mean: 20.5\n",
            "NumPy Mean: 20.5\n",
            "--------------------\n",
            "Random List: [39, 18, 45, 36, 50, 26, 29, 14, 12, 27, 29, 27, 45, 10, 14]\n",
            "Manual Median (of sorted list): 27\n",
            "NumPy Median: 27.0\n",
            "--------------------\n",
            "Minimum: 10\n",
            "Maximum: 50\n",
            "Range: 40\n"
          ]
        }
      ]
    },
    {
      "cell_type": "markdown",
      "source": [
        "**Variance & Standard Deviation**"
      ],
      "metadata": {
        "id": "CM_3Tm_rMFmI"
      }
    },
    {
      "cell_type": "code",
      "metadata": {
        "colab": {
          "base_uri": "https://localhost:8080/"
        },
        "id": "1SySkwPRMCvj",
        "outputId": "b7dd2b77-8568-489e-9581-744c5df13c33"
      },
      "source": [
        "import numpy as np\n",
        "\n",
        "data = [5, 7, 3, 7, 9, 10, 15, 7]\n",
        "\n",
        "# Manual Variance Calculation\n",
        "mean = sum(data) / len(data)\n",
        "squared_differences = [(x - mean) ** 2 for x in data]\n",
        "manual_variance = sum(squared_differences) / len(data) # Population variance\n",
        "\n",
        "print(f\"Manual Variance (Population): {manual_variance}\")\n",
        "\n",
        "# NumPy Variance Verification (Population variance by default)\n",
        "numpy_variance = np.var(data)\n",
        "print(f\"NumPy Variance: {numpy_variance}\")\n",
        "\n",
        "print(\"-\" * 20) # Separator\n",
        "\n",
        "# Manual Standard Deviation Calculation\n",
        "manual_std_dev = manual_variance ** 0.5\n",
        "print(f\"Manual Standard Deviation (Population): {manual_std_dev}\")\n",
        "\n",
        "# NumPy Standard Deviation Verification (Population standard deviation by default)\n",
        "numpy_std_dev = np.std(data)\n",
        "print(f\"NumPy Standard Deviation: {numpy_std_dev}\")"
      ],
      "execution_count": 2,
      "outputs": [
        {
          "output_type": "stream",
          "name": "stdout",
          "text": [
            "Manual Variance (Population): 11.359375\n",
            "NumPy Variance: 11.359375\n",
            "--------------------\n",
            "Manual Standard Deviation (Population): 3.370367190678191\n",
            "NumPy Standard Deviation: 3.370367190678191\n"
          ]
        }
      ]
    },
    {
      "cell_type": "markdown",
      "source": [
        "**Quartiles & IQR**"
      ],
      "metadata": {
        "id": "LvHKkHY7MOik"
      }
    },
    {
      "cell_type": "code",
      "source": [
        "import numpy as np\n",
        "\n",
        "# Example dataset\n",
        "data = [12, 15, 14, 10, 18, 20, 25, 22, 30, 28]\n",
        "\n",
        "# Calculate percentiles\n",
        "p25 = np.percentile(data, 25)  # Q1\n",
        "p50 = np.percentile(data, 50)  # Median\n",
        "p75 = np.percentile(data, 75)  # Q3\n",
        "\n",
        "# Compute IQR\n",
        "IQR = p75 - p25\n",
        "\n",
        "# Display results\n",
        "print(\"Dataset:\", data)\n",
        "print(f\"25th Percentile (Q1): {p25}\")\n",
        "print(f\"50th Percentile (Median): {p50}\")\n",
        "print(f\"75th Percentile (Q3): {p75}\")\n",
        "print(f\"Interquartile Range (IQR): {IQR}\")\n"
      ],
      "metadata": {
        "colab": {
          "base_uri": "https://localhost:8080/"
        },
        "id": "vpyxQ4i8N39A",
        "outputId": "3154c02f-8eac-42f3-9909-84c47353eea6"
      },
      "execution_count": 10,
      "outputs": [
        {
          "output_type": "stream",
          "name": "stdout",
          "text": [
            "Dataset: [12, 15, 14, 10, 18, 20, 25, 22, 30, 28]\n",
            "25th Percentile (Q1): 14.25\n",
            "50th Percentile (Median): 19.0\n",
            "75th Percentile (Q3): 24.25\n",
            "Interquartile Range (IQR): 10.0\n"
          ]
        }
      ]
    },
    {
      "cell_type": "markdown",
      "source": [
        "**Data Transformation & Statistics**"
      ],
      "metadata": {
        "id": "MX50aABJMd5b"
      }
    },
    {
      "cell_type": "markdown",
      "source": [
        "**8**"
      ],
      "metadata": {
        "id": "-j_SocLlM5lM"
      }
    },
    {
      "cell_type": "code",
      "metadata": {
        "colab": {
          "base_uri": "https://localhost:8080/"
        },
        "id": "AwUUMBiKMnKi",
        "outputId": "975e13ff-64af-40ee-bdaa-4ae05588d86f"
      },
      "source": [
        "import numpy as np\n",
        "\n",
        "def manual_z_score_normalization(data):\n",
        "    \"\"\"\n",
        "    Calculates the z-scores for a list of numbers manually.\n",
        "\n",
        "    Args:\n",
        "        data: A list of numbers.\n",
        "\n",
        "    Returns:\n",
        "        A list containing the z-scores for each element in the input list.\n",
        "    \"\"\"\n",
        "    mean = sum(data) / len(data)\n",
        "    # Calculate population standard deviation\n",
        "    std_dev = (sum([(x - mean) ** 2 for x in data]) / len(data)) ** 0.5\n",
        "\n",
        "    z_scores = [(x - mean) / std_dev for x in data]\n",
        "    return z_scores\n",
        "\n",
        "# Example usage:\n",
        "my_list = [10, 15, 12, 18, 20, 14, 16, 22]\n",
        "z_scores_list = manual_z_score_normalization(my_list)\n",
        "\n",
        "print(f\"Original List: {my_list}\")\n",
        "print(f\"Z-Scores: {z_scores_list}\")\n",
        "\n",
        "# Verify with NumPy (optional)\n",
        "# numpy_z_scores = (my_list - np.mean(my_list)) / np.std(my_list)\n",
        "# print(f\"NumPy Z-Scores: {numpy_z_scores}\")"
      ],
      "execution_count": 7,
      "outputs": [
        {
          "output_type": "stream",
          "name": "stdout",
          "text": [
            "Original List: [10, 15, 12, 18, 20, 14, 16, 22]\n",
            "Z-Scores: [-1.5640620652533461, -0.23294541397390262, -1.0316154047415687, 0.5657245767937635, 1.098171237305541, -0.4991687442297913, 0.033277916281986085, 1.6306178978173183]\n"
          ]
        }
      ]
    },
    {
      "cell_type": "markdown",
      "source": [
        "*9**"
      ],
      "metadata": {
        "id": "EtNlMsVPNVyH"
      }
    },
    {
      "cell_type": "code",
      "source": [
        "import random\n",
        "import numpy as np\n",
        "\n",
        "# Step 1: Generate 20 random integers between 1 and 100\n",
        "data = [random.randint(1, 100) for _ in range(20)]\n",
        "print(\"Original Data:\", data)\n",
        "\n",
        "# Step 2: Moving Average using list slicing\n",
        "window_size = 3\n",
        "moving_avg_manual = [\n",
        "    sum(data[i:i+window_size]) / window_size\n",
        "    for i in range(len(data) - window_size + 1)\n",
        "]\n",
        "print(\"\\nMoving Average (Manual, slicing):\", moving_avg_manual)\n",
        "\n",
        "# Step 3: Moving Average using numpy.convolve()\n",
        "kernel = np.ones(window_size) / window_size  # [1/3, 1/3, 1/3]\n",
        "moving_avg_numpy = np.convolve(data, kernel, mode='valid')\n",
        "print(\"\\nMoving Average (NumPy convolve):\", moving_avg_numpy.tolist())\n"
      ],
      "metadata": {
        "colab": {
          "base_uri": "https://localhost:8080/"
        },
        "id": "7ju7naQbNY5D",
        "outputId": "bcddfb33-390a-4aa4-b912-19e0536b5501"
      },
      "execution_count": 8,
      "outputs": [
        {
          "output_type": "stream",
          "name": "stdout",
          "text": [
            "Original Data: [1, 30, 99, 12, 33, 42, 51, 34, 86, 100, 82, 63, 91, 41, 68, 41, 49, 61, 100, 46]\n",
            "\n",
            "Moving Average (Manual, slicing): [43.333333333333336, 47.0, 48.0, 29.0, 42.0, 42.333333333333336, 57.0, 73.33333333333333, 89.33333333333333, 81.66666666666667, 78.66666666666667, 65.0, 66.66666666666667, 50.0, 52.666666666666664, 50.333333333333336, 70.0, 69.0]\n",
            "\n",
            "Moving Average (NumPy convolve): [43.333333333333336, 47.0, 48.0, 29.0, 42.0, 42.33333333333333, 57.0, 73.33333333333333, 89.33333333333333, 81.66666666666666, 78.66666666666666, 65.0, 66.66666666666666, 49.99999999999999, 52.66666666666666, 50.33333333333333, 70.0, 68.99999999999999]\n"
          ]
        }
      ]
    },
    {
      "cell_type": "markdown",
      "source": [
        "**10**"
      ],
      "metadata": {
        "id": "-NnfuFb6NsVR"
      }
    },
    {
      "cell_type": "code",
      "source": [
        "import random\n",
        "import numpy as np\n",
        "\n",
        "# Step 1: Generate 25 random integers between 1 and 50\n",
        "data = [random.randint(1, 50) for _ in range(25)]\n",
        "\n",
        "# Step 2: Add two very large numbers (outliers)\n",
        "data.extend([300, 400])\n",
        "print(\"Data:\", data)\n",
        "\n",
        "# Step 3: Calculate Q1, Q3, and IQR\n",
        "Q1 = np.percentile(data, 25)\n",
        "Q3 = np.percentile(data, 75)\n",
        "IQR = Q3 - Q1\n",
        "\n",
        "# Step 4: Determine lower and upper bounds\n",
        "lower_bound = Q1 - 1.5 * IQR\n",
        "upper_bound = Q3 + 1.5 * IQR\n",
        "\n",
        "print(f\"\\nQ1: {Q1}, Q3: {Q3}, IQR: {IQR}\")\n",
        "print(f\"Lower Bound: {lower_bound}, Upper Bound: {upper_bound}\")\n",
        "\n",
        "# Step 5: Detect outliers\n",
        "outliers = [x for x in data if x < lower_bound or x > upper_bound]\n",
        "print(\"\\nDetected Outliers:\", outliers)\n"
      ],
      "metadata": {
        "colab": {
          "base_uri": "https://localhost:8080/"
        },
        "id": "ZGPfiofUNuQC",
        "outputId": "a9baf554-84cf-4a74-d86f-11ecb1a6d2ea"
      },
      "execution_count": 9,
      "outputs": [
        {
          "output_type": "stream",
          "name": "stdout",
          "text": [
            "Data: [24, 45, 10, 24, 26, 28, 12, 13, 33, 42, 24, 13, 8, 7, 17, 48, 24, 28, 9, 48, 30, 4, 5, 26, 25, 300, 400]\n",
            "\n",
            "Q1: 12.5, Q3: 31.5, IQR: 19.0\n",
            "Lower Bound: -16.0, Upper Bound: 60.0\n",
            "\n",
            "Detected Outliers: [300, 400]\n"
          ]
        }
      ]
    }
  ]
}