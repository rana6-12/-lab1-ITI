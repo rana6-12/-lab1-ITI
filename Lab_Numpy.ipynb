{
  "nbformat": 4,
  "nbformat_minor": 0,
  "metadata": {
    "colab": {
      "provenance": [],
      "authorship_tag": "ABX9TyMQPtoe/ortrrg50JQkH9sq",
      "include_colab_link": true
    },
    "kernelspec": {
      "name": "python3",
      "display_name": "Python 3"
    },
    "language_info": {
      "name": "python"
    }
  },
  "cells": [
    {
      "cell_type": "markdown",
      "metadata": {
        "id": "view-in-github",
        "colab_type": "text"
      },
      "source": [
        "<a href=\"https://colab.research.google.com/github/rana6-12/-lab1-ITI/blob/main/Lab_Numpy.ipynb\" target=\"_parent\"><img src=\"https://colab.research.google.com/assets/colab-badge.svg\" alt=\"Open In Colab\"/></a>"
      ]
    },
    {
      "cell_type": "markdown",
      "source": [
        "**1**-**Import** **Numpy** & **Print** **Version**"
      ],
      "metadata": {
        "id": "HTJQAThx9ZB9"
      }
    },
    {
      "cell_type": "code",
      "execution_count": 2,
      "metadata": {
        "id": "bU--fO0I4oRy"
      },
      "outputs": [],
      "source": [
        "import numpy as np;\n"
      ]
    },
    {
      "cell_type": "code",
      "source": [
        "print(np.__version__);"
      ],
      "metadata": {
        "colab": {
          "base_uri": "https://localhost:8080/"
        },
        "id": "MxN4FWbo9XAW",
        "outputId": "7e74a0c1-c0c7-4b55-e1f2-24fdd4079c9e"
      },
      "execution_count": 3,
      "outputs": [
        {
          "output_type": "stream",
          "name": "stdout",
          "text": [
            "2.0.2\n"
          ]
        }
      ]
    },
    {
      "cell_type": "markdown",
      "source": [
        "**2-# Define a list of numeric values & # Convert the list to a NumPy array**"
      ],
      "metadata": {
        "id": "koKIDPV6-DLs"
      }
    },
    {
      "cell_type": "code",
      "source": [
        "# Define a list of numeric values\n",
        "my_list = [1, 2, 3, 4, 5]\n",
        "\n",
        "# Convert the list to a NumPy array\n",
        "my_array = np.array(my_list)\n",
        "\n",
        "# Print the array\n",
        "print(my_array)"
      ],
      "metadata": {
        "colab": {
          "base_uri": "https://localhost:8080/"
        },
        "id": "1nOlwhIG-a05",
        "outputId": "9f6da99f-47c5-4f85-80da-2e3f5e6167d9"
      },
      "execution_count": 4,
      "outputs": [
        {
          "output_type": "stream",
          "name": "stdout",
          "text": [
            "[1 2 3 4 5]\n"
          ]
        }
      ]
    },
    {
      "cell_type": "markdown",
      "source": [
        "**3- Create a null vector of size** **9**"
      ],
      "metadata": {
        "id": "zRGhgC1T-t2G"
      }
    },
    {
      "cell_type": "code",
      "source": [
        "# Create a null vector of size 9\n",
        "null_vector = np.zeros(9)\n",
        "\n",
        "# Print the null vector\n",
        "print(null_vector)"
      ],
      "metadata": {
        "colab": {
          "base_uri": "https://localhost:8080/"
        },
        "id": "Yla4f2_7-5oZ",
        "outputId": "7b709483-c02e-493e-f3e8-84f57eba71cd"
      },
      "execution_count": 5,
      "outputs": [
        {
          "output_type": "stream",
          "name": "stdout",
          "text": [
            "[0. 0. 0. 0. 0. 0. 0. 0. 0.]\n"
          ]
        }
      ]
    },
    {
      "cell_type": "markdown",
      "source": [
        "**4. How to find the memory size of any array**"
      ],
      "metadata": {
        "id": "2he96Rp8_J2q"
      }
    },
    {
      "cell_type": "code",
      "source": [
        "import numpy as np\n",
        "\n",
        "# Create a sample array\n",
        "my_array = np.array([[1, 2, 3], [4, 5, 6]])\n",
        "\n",
        "# Get the number of elements\n",
        "num_elements = my_array.size\n",
        "\n",
        "# Get the size of each element in bytes\n",
        "element_size = my_array.itemsize\n",
        "\n",
        "# Calculate the total memory size in bytes\n",
        "memory_size = num_elements * element_size\n",
        "\n",
        "print(f\"The array:\\n{my_array}\")\n",
        "print(f\"Number of elements: {num_elements}\")\n",
        "print(f\"Size of each element (bytes): {element_size}\")\n",
        "print(f\"Total memory size (bytes): {memory_size}\")"
      ],
      "metadata": {
        "colab": {
          "base_uri": "https://localhost:8080/"
        },
        "id": "Gcklxdvt_L3l",
        "outputId": "f6ccb3a2-13d3-492b-e95b-71b54a1192c9"
      },
      "execution_count": 6,
      "outputs": [
        {
          "output_type": "stream",
          "name": "stdout",
          "text": [
            "The array:\n",
            "[[1 2 3]\n",
            " [4 5 6]]\n",
            "Number of elements: 6\n",
            "Size of each element (bytes): 8\n",
            "Total memory size (bytes): 48\n"
          ]
        }
      ]
    },
    {
      "cell_type": "markdown",
      "source": [
        "5-** How to get the documentation of the numpy add function from the command line?**"
      ],
      "metadata": {
        "id": "GtMBN34D_Rfu"
      }
    },
    {
      "cell_type": "code",
      "source": [
        "import numpy as np\n",
        "\n",
        "# Using the help() function\n",
        "help(np.add)\n",
        "\n",
        "# Using the ? magic command\n",
        "# ?np.add"
      ],
      "metadata": {
        "colab": {
          "base_uri": "https://localhost:8080/"
        },
        "id": "xkfcWBaW_X6h",
        "outputId": "41a3a5db-af6b-4d20-f574-b47a952ef0ee"
      },
      "execution_count": 7,
      "outputs": [
        {
          "output_type": "stream",
          "name": "stdout",
          "text": [
            "Help on ufunc:\n",
            "\n",
            "add = <ufunc 'add'>\n",
            "    add(x1, x2, /, out=None, *, where=True, casting='same_kind', order='K', dtype=None, subok=True[, signature])\n",
            "    \n",
            "    Add arguments element-wise.\n",
            "    \n",
            "    Parameters\n",
            "    ----------\n",
            "    x1, x2 : array_like\n",
            "        The arrays to be added.\n",
            "        If ``x1.shape != x2.shape``, they must be broadcastable to a common\n",
            "        shape (which becomes the shape of the output).\n",
            "    out : ndarray, None, or tuple of ndarray and None, optional\n",
            "        A location into which the result is stored. If provided, it must have\n",
            "        a shape that the inputs broadcast to. If not provided or None,\n",
            "        a freshly-allocated array is returned. A tuple (possible only as a\n",
            "        keyword argument) must have length equal to the number of outputs.\n",
            "    where : array_like, optional\n",
            "        This condition is broadcast over the input. At locations where the\n",
            "        condition is True, the `out` array will be set to the ufunc result.\n",
            "        Elsewhere, the `out` array will retain its original value.\n",
            "        Note that if an uninitialized `out` array is created via the default\n",
            "        ``out=None``, locations within it where the condition is False will\n",
            "        remain uninitialized.\n",
            "    **kwargs\n",
            "        For other keyword-only arguments, see the\n",
            "        :ref:`ufunc docs <ufuncs.kwargs>`.\n",
            "    \n",
            "    Returns\n",
            "    -------\n",
            "    add : ndarray or scalar\n",
            "        The sum of `x1` and `x2`, element-wise.\n",
            "        This is a scalar if both `x1` and `x2` are scalars.\n",
            "    \n",
            "    Notes\n",
            "    -----\n",
            "    Equivalent to `x1` + `x2` in terms of array broadcasting.\n",
            "    \n",
            "    Examples\n",
            "    --------\n",
            "    >>> np.add(1.0, 4.0)\n",
            "    5.0\n",
            "    >>> x1 = np.arange(9.0).reshape((3, 3))\n",
            "    >>> x2 = np.arange(3.0)\n",
            "    >>> np.add(x1, x2)\n",
            "    array([[  0.,   2.,   4.],\n",
            "           [  3.,   5.,   7.],\n",
            "           [  6.,   8.,  10.]])\n",
            "    \n",
            "    The ``+`` operator can be used as a shorthand for ``np.add`` on ndarrays.\n",
            "    \n",
            "    >>> x1 = np.arange(9.0).reshape((3, 3))\n",
            "    >>> x2 = np.arange(3.0)\n",
            "    >>> x1 + x2\n",
            "    array([[ 0.,  2.,  4.],\n",
            "           [ 3.,  5.,  7.],\n",
            "           [ 6.,  8., 10.]])\n",
            "\n"
          ]
        }
      ]
    },
    {
      "cell_type": "markdown",
      "source": [
        "**6-6. Create a null vector of size 12 but the sixth value which is 1"
      ],
      "metadata": {
        "id": "X-Wd7Ebn_sh9"
      }
    },
    {
      "cell_type": "code",
      "source": [
        "import numpy as np\n",
        "\n",
        "# Create a null vector of size 12\n",
        "null_vector = np.zeros(12)\n",
        "\n",
        "# Set the sixth value to 1 (index 5 since it's 0-based)\n",
        "null_vector[5] = 1\n",
        "\n",
        "# Print the vector\n",
        "print(null_vector)"
      ],
      "metadata": {
        "colab": {
          "base_uri": "https://localhost:8080/"
        },
        "id": "E8vrIovrARv2",
        "outputId": "60e13d0b-e3dd-4a0e-9cb3-b35cc280eaa0"
      },
      "execution_count": 8,
      "outputs": [
        {
          "output_type": "stream",
          "name": "stdout",
          "text": [
            "[0. 0. 0. 0. 0. 1. 0. 0. 0. 0. 0. 0.]\n"
          ]
        }
      ]
    },
    {
      "cell_type": "markdown",
      "source": [
        "**#### 7. Create a vector with values ranging from 20 to 59\n"
      ],
      "metadata": {
        "id": "YEUUByXBAcIH"
      }
    },
    {
      "cell_type": "code",
      "metadata": {
        "colab": {
          "base_uri": "https://localhost:8080/"
        },
        "id": "jhs_1yc8ArGL",
        "outputId": "6d494e2d-13e1-40e8-e575-e3c6034feb75"
      },
      "source": [
        "import numpy as np\n",
        "\n",
        "# Create a vector with values ranging from 20 to 59\n",
        "vector = np.arange(20, 60)\n",
        "\n",
        "# Print the vector\n",
        "print(vector)"
      ],
      "execution_count": 9,
      "outputs": [
        {
          "output_type": "stream",
          "name": "stdout",
          "text": [
            "[20 21 22 23 24 25 26 27 28 29 30 31 32 33 34 35 36 37 38 39 40 41 42 43\n",
            " 44 45 46 47 48 49 50 51 52 53 54 55 56 57 58 59]\n"
          ]
        }
      ]
    },
    {
      "cell_type": "markdown",
      "source": [
        "**#### 8. Reverse a vector (first element becomes last) (★☆☆)\n",
        "`💡hint: array[::-1]`**"
      ],
      "metadata": {
        "id": "b8MLtzb3A3Pn"
      }
    },
    {
      "cell_type": "code",
      "metadata": {
        "colab": {
          "base_uri": "https://localhost:8080/"
        },
        "id": "GooygTTIBCo2",
        "outputId": "95b8fbd0-6457-4bc9-9c6b-88671b82f977"
      },
      "source": [
        "import numpy as np\n",
        "\n",
        "# Create a sample vector\n",
        "vector = np.arange(10)\n",
        "print(\"Original vector:\", vector)\n",
        "\n",
        "# Reverse the vector\n",
        "reversed_vector = vector[::-1]\n",
        "\n",
        "# Print the reversed vector\n",
        "print(\"Reversed vector:\", reversed_vector)"
      ],
      "execution_count": 10,
      "outputs": [
        {
          "output_type": "stream",
          "name": "stdout",
          "text": [
            "Original vector: [0 1 2 3 4 5 6 7 8 9]\n",
            "Reversed vector: [9 8 7 6 5 4 3 2 1 0]\n"
          ]
        }
      ]
    },
    {
      "cell_type": "markdown",
      "source": [
        "**#### 9. Create a 3x3 matrix with values ranging from 12 to 20 (★☆☆)\n",
        "`💡hint: reshape`**"
      ],
      "metadata": {
        "id": "_fryl1MEBIou"
      }
    },
    {
      "cell_type": "code",
      "metadata": {
        "colab": {
          "base_uri": "https://localhost:8080/"
        },
        "id": "ueRVhNybBOud",
        "outputId": "8281f0ef-868d-4634-bbce-a312e9dd38e3"
      },
      "source": [
        "import numpy as np\n",
        "\n",
        "# Create a 1D array with values from 12 to 20\n",
        "array_1d = np.arange(12, 21)\n",
        "\n",
        "# Reshape the 1D array into a 3x3 matrix\n",
        "matrix_3x3 = array_1d.reshape(3, 3)\n",
        "\n",
        "# Print the matrix\n",
        "print(matrix_3x3)"
      ],
      "execution_count": 11,
      "outputs": [
        {
          "output_type": "stream",
          "name": "stdout",
          "text": [
            "[[12 13 14]\n",
            " [15 16 17]\n",
            " [18 19 20]]\n"
          ]
        }
      ]
    },
    {
      "cell_type": "markdown",
      "source": [
        "**#### 10. Find indices of non-zero elements from [3,7,0,0,9,0] (★☆☆)\n",
        "`💡hint: np.nonzero`**"
      ],
      "metadata": {
        "id": "5QUBaKsDBU2z"
      }
    },
    {
      "cell_type": "code",
      "metadata": {
        "colab": {
          "base_uri": "https://localhost:8080/"
        },
        "id": "8cz0QLdtBbIm",
        "outputId": "ee994476-504e-43fe-d69d-144f100ac7e7"
      },
      "source": [
        "import numpy as np\n",
        "\n",
        "# Define the array\n",
        "my_array = np.array([3, 7, 0, 0, 9, 0])\n",
        "\n",
        "# Find the indices of non-zero elements\n",
        "nonzero_indices = np.nonzero(my_array)\n",
        "\n",
        "# Print the indices\n",
        "print(nonzero_indices)"
      ],
      "execution_count": 12,
      "outputs": [
        {
          "output_type": "stream",
          "name": "stdout",
          "text": [
            "(array([0, 1, 4]),)\n"
          ]
        }
      ]
    },
    {
      "cell_type": "markdown",
      "source": [
        "#### 11. Create a 4x4 identity matrix (★☆☆)\n",
        "`💡hint: np.eye`"
      ],
      "metadata": {
        "id": "SzFfSox0BgFi"
      }
    },
    {
      "cell_type": "code",
      "metadata": {
        "colab": {
          "base_uri": "https://localhost:8080/"
        },
        "id": "uVoT7Do1Bjxy",
        "outputId": "1134c5c9-9934-4bf7-8c5a-4da5620881a4"
      },
      "source": [
        "import numpy as np\n",
        "\n",
        "# Create a 4x4 identity matrix\n",
        "identity_matrix = np.eye(4)\n",
        "\n",
        "# Print the identity matrix\n",
        "print(identity_matrix)"
      ],
      "execution_count": 13,
      "outputs": [
        {
          "output_type": "stream",
          "name": "stdout",
          "text": [
            "[[1. 0. 0. 0.]\n",
            " [0. 1. 0. 0.]\n",
            " [0. 0. 1. 0.]\n",
            " [0. 0. 0. 1.]]\n"
          ]
        }
      ]
    },
    {
      "cell_type": "markdown",
      "source": [
        "#### 12. Create a 2x2x2 array with random values (★☆☆)\n",
        "`💡hint: np.random.random`"
      ],
      "metadata": {
        "id": "yYLFRf8UBqSq"
      }
    },
    {
      "cell_type": "code",
      "metadata": {
        "colab": {
          "base_uri": "https://localhost:8080/"
        },
        "id": "WBoYA8lTBzZO",
        "outputId": "b5558b3d-6436-404c-d85d-5a1cb59040d8"
      },
      "source": [
        "import numpy as np\n",
        "\n",
        "# Create a 2x2x2 array with random values\n",
        "random_array = np.random.random((2, 2, 2))\n",
        "\n",
        "# Print the array\n",
        "print(random_array)"
      ],
      "execution_count": 14,
      "outputs": [
        {
          "output_type": "stream",
          "name": "stdout",
          "text": [
            "[[[0.85101383 0.54111465]\n",
            "  [0.99297746 0.91633016]]\n",
            "\n",
            " [[0.50605425 0.18732862]\n",
            "  [0.19986396 0.29580978]]]\n"
          ]
        }
      ]
    },
    {
      "cell_type": "markdown",
      "source": [
        "#### 13. Create a 9x9 array with random values and find the minimum and maximum values (★☆☆)\n",
        "`💡hint: min, max`"
      ],
      "metadata": {
        "id": "gPjZ7kTcB7ro"
      }
    },
    {
      "cell_type": "code",
      "source": [
        "import numpy as np\n",
        "\n",
        "# Create a 9x9 array with random values\n",
        "random_array = np.random.random((9, 9))\n",
        "\n",
        "# Find the minimum value\n",
        "min_value = random_array.min()\n",
        "\n",
        "# Find the maximum value\n",
        "max_value = random_array.max()\n",
        "\n",
        "# Print the array and the min/max values\n",
        "print(\"The 9x9 random array:\")\n",
        "print(random_array)\n",
        "print(f\"\\nMinimum value: {min_value}\")\n",
        "print(f\"Maximum value: {max_value}\")"
      ],
      "metadata": {
        "colab": {
          "base_uri": "https://localhost:8080/"
        },
        "id": "eXojMV2GCEfq",
        "outputId": "29ef7984-91cd-4140-83b0-46bfd7396315"
      },
      "execution_count": 15,
      "outputs": [
        {
          "output_type": "stream",
          "name": "stdout",
          "text": [
            "The 9x9 random array:\n",
            "[[0.6946557  0.62788142 0.37582147 0.9436388  0.45804646 0.5287036\n",
            "  0.27594718 0.70108219 0.55656842]\n",
            " [0.45581136 0.42416291 0.21541329 0.90863521 0.3320524  0.99171361\n",
            "  0.69070165 0.39700939 0.21047055]\n",
            " [0.1399716  0.75706852 0.06515355 0.49122215 0.91248251 0.460984\n",
            "  0.9249601  0.05480174 0.72575528]\n",
            " [0.99270726 0.3484503  0.51637407 0.95739395 0.63202241 0.55751913\n",
            "  0.16995439 0.18406073 0.6958628 ]\n",
            " [0.71269384 0.9997442  0.56710566 0.17417542 0.60171484 0.60470047\n",
            "  0.21844735 0.57870009 0.7536039 ]\n",
            " [0.70864534 0.38500146 0.77063593 0.49571731 0.75706644 0.03952265\n",
            "  0.12764069 0.42790756 0.13788612]\n",
            " [0.70358081 0.28385812 0.66522297 0.84160044 0.49421042 0.51724906\n",
            "  0.44811717 0.11224041 0.53687729]\n",
            " [0.0748964  0.55795581 0.68702664 0.15408375 0.31774023 0.80235139\n",
            "  0.77620062 0.14093195 0.36713116]\n",
            " [0.70619212 0.85002603 0.02226581 0.09650453 0.07704051 0.24738984\n",
            "  0.90431742 0.2122265  0.37527789]]\n",
            "\n",
            "Minimum value: 0.022265808891662853\n",
            "Maximum value: 0.9997442034051427\n"
          ]
        }
      ]
    },
    {
      "cell_type": "markdown",
      "source": [
        "#### 14. Create a random vector of size 20 and find the mean value (★☆☆)\n",
        "`💡hint: mean`"
      ],
      "metadata": {
        "id": "YANn54IgCSXa"
      }
    },
    {
      "cell_type": "code",
      "source": [
        "import numpy as np\n",
        "\n",
        "# Create a random vector of size 20\n",
        "random_vector = np.random.rand(20)\n",
        "\n",
        "# Find the mean value\n",
        "mean_value = random_vector.mean()\n",
        "\n",
        "# Print the vector and its mean\n",
        "print(\"The random vector:\")\n",
        "print(random_vector)\n",
        "print(f\"\\nMean value: {mean_value}\")"
      ],
      "metadata": {
        "colab": {
          "base_uri": "https://localhost:8080/"
        },
        "id": "s9sX61pTCbBk",
        "outputId": "fb3e4e3c-2f24-4f52-c31a-b87caf81c7c6"
      },
      "execution_count": 16,
      "outputs": [
        {
          "output_type": "stream",
          "name": "stdout",
          "text": [
            "The random vector:\n",
            "[0.39651603 0.36997033 0.82015857 0.06148582 0.46143269 0.12531617\n",
            " 0.37035263 0.76734463 0.5339177  0.97867642 0.78309112 0.40037892\n",
            " 0.69236131 0.24826672 0.01814246 0.35148872 0.21822577 0.57749647\n",
            " 0.74912186 0.50387546]\n",
            "\n",
            "Mean value: 0.4713809901371392\n"
          ]
        }
      ]
    },
    {
      "cell_type": "markdown",
      "source": [
        "#### 15. Create a 2d array with 1 on the border and 0 inside (★☆☆)\n",
        "`💡hint: array[1:-1, 1:-1]`"
      ],
      "metadata": {
        "id": "uYr-FQr-CdUS"
      }
    },
    {
      "cell_type": "code",
      "source": [
        "import numpy as np\n",
        "\n",
        "# Define the size of the array (e.g., 5x5)\n",
        "size = 5\n",
        "\n",
        "# Create an array filled with 1s\n",
        "my_array = np.ones((size, size))\n",
        "\n",
        "# Set the inner part to 0s using slicing\n",
        "my_array[1:-1, 1:-1] = 0\n",
        "\n",
        "# Print the array\n",
        "print(my_array)"
      ],
      "metadata": {
        "colab": {
          "base_uri": "https://localhost:8080/"
        },
        "id": "YuZkuqAkCjLb",
        "outputId": "16b3f7f3-9f40-4f7b-cb2e-5bf44c005a50"
      },
      "execution_count": 17,
      "outputs": [
        {
          "output_type": "stream",
          "name": "stdout",
          "text": [
            "[[1. 1. 1. 1. 1.]\n",
            " [1. 0. 0. 0. 1.]\n",
            " [1. 0. 0. 0. 1.]\n",
            " [1. 0. 0. 0. 1.]\n",
            " [1. 1. 1. 1. 1.]]\n"
          ]
        }
      ]
    },
    {
      "cell_type": "markdown",
      "source": [
        "#### 16. How to add a border (filled with 0's) around an existing array? (★☆☆)\n",
        "`💡hint: np.pad`"
      ],
      "metadata": {
        "id": "P25kS6NrC1uj"
      }
    },
    {
      "cell_type": "code",
      "source": [
        "import numpy as np\n",
        "\n",
        "# Create a sample array\n",
        "my_array = np.ones((3, 3))\n",
        "print(\"Original array:\")\n",
        "print(my_array)\n",
        "\n",
        "# Add a border of 0s around the array\n",
        "# The 'pad_width' parameter specifies the number of values padded to the edges\n",
        "# The 'mode' parameter specifies the type of padding, 'constant' fills with a constant value\n",
        "# The 'constant_values' parameter specifies the value to use for constant padding\n",
        "padded_array = np.pad(my_array, pad_width=1, mode='constant', constant_values=0)\n",
        "\n",
        "print(\"\\nArray with border:\")\n",
        "print(padded_array)"
      ],
      "metadata": {
        "colab": {
          "base_uri": "https://localhost:8080/"
        },
        "id": "vwJkngJUC2tH",
        "outputId": "0f1ba7ad-5a94-40c1-87fe-781f5d5b6f23"
      },
      "execution_count": 18,
      "outputs": [
        {
          "output_type": "stream",
          "name": "stdout",
          "text": [
            "Original array:\n",
            "[[1. 1. 1.]\n",
            " [1. 1. 1.]\n",
            " [1. 1. 1.]]\n",
            "\n",
            "Array with border:\n",
            "[[0. 0. 0. 0. 0.]\n",
            " [0. 1. 1. 1. 0.]\n",
            " [0. 1. 1. 1. 0.]\n",
            " [0. 1. 1. 1. 0.]\n",
            " [0. 0. 0. 0. 0.]]\n"
          ]
        }
      ]
    },
    {
      "cell_type": "markdown",
      "source": [
        "#### 17. What is the result of the following expression? (★☆☆)\n",
        "```python\n",
        "0 * np.nan\n",
        "np.nan == np.nan\n",
        "np.inf > np.nan\n",
        "np.nan - np.nan\n",
        "np.nan in set([np.nan])\n",
        "0.7 == 7 * 0.1\n",
        "```\n",
        "`💡hint: NaN = not a number, inf = infinity`"
      ],
      "metadata": {
        "id": "jGPk1y4qC7Za"
      }
    },
    {
      "cell_type": "code",
      "source": [
        "import numpy as np\n",
        "\n",
        "print(f\"0 * np.nan: {0 * np.nan}\")\n",
        "print(f\"np.nan == np.nan: {np.nan == np.nan}\")\n",
        "print(f\"np.inf > np.nan: {np.inf > np.nan}\")\n",
        "print(f\"np.nan - np.nan: {np.nan - np.nan}\")\n",
        "print(f\"np.nan in set([np.nan]): {np.nan in set([np.nan])}\")\n",
        "print(f\"0.7 == 7 * 0.1: {0.7 == 7 * 0.1}\")"
      ],
      "metadata": {
        "colab": {
          "base_uri": "https://localhost:8080/"
        },
        "id": "D7twT0zsC_Xq",
        "outputId": "16bd615f-47bc-4f20-dad1-ad4265692ca5"
      },
      "execution_count": 19,
      "outputs": [
        {
          "output_type": "stream",
          "name": "stdout",
          "text": [
            "0 * np.nan: nan\n",
            "np.nan == np.nan: False\n",
            "np.inf > np.nan: False\n",
            "np.nan - np.nan: nan\n",
            "np.nan in set([np.nan]): True\n",
            "0.7 == 7 * 0.1: False\n"
          ]
        }
      ]
    },
    {
      "cell_type": "markdown",
      "source": [
        "#### 18. Create a 6x6 matrix with values 1,2,3,4 just below the diagonal (★☆☆)\n",
        "`💡hint: np.diag`\n"
      ],
      "metadata": {
        "id": "NlroGKgbDJIg"
      }
    },
    {
      "cell_type": "code",
      "source": [
        "import numpy as np\n",
        "\n",
        "# Create the values for the diagonal\n",
        "diagonal_values = np.array([1, 2, 3, 4])\n",
        "\n",
        "# Create a 6x6 matrix with these values on the diagonal just below the main one (k=-1)\n",
        "matrix = np.diag(diagonal_values, k=-1)\n",
        "\n",
        "# Print the matrix\n",
        "print(matrix)"
      ],
      "metadata": {
        "colab": {
          "base_uri": "https://localhost:8080/"
        },
        "id": "ReVHf7EIDKfD",
        "outputId": "bdd0cf88-4332-430c-d832-d691e83f3348"
      },
      "execution_count": 20,
      "outputs": [
        {
          "output_type": "stream",
          "name": "stdout",
          "text": [
            "[[0 0 0 0 0]\n",
            " [1 0 0 0 0]\n",
            " [0 2 0 0 0]\n",
            " [0 0 3 0 0]\n",
            " [0 0 0 4 0]]\n"
          ]
        }
      ]
    },
    {
      "cell_type": "markdown",
      "source": [
        "#### 19. Create a 6x6 matrix and fill it with a checkerboard pattern (★☆☆)\n",
        "`💡hint: array[::2]`"
      ],
      "metadata": {
        "id": "NoRe130jDN6X"
      }
    },
    {
      "cell_type": "code",
      "source": [
        "import numpy as np\n",
        "\n",
        "# Create a 6x6 matrix initialized with zeros\n",
        "checkerboard = np.zeros((6, 6), dtype=int)\n",
        "\n",
        "# Fill with a checkerboard pattern using slicing\n",
        "checkerboard[::2, ::2] = 1\n",
        "checkerboard[1::2, 1::2] = 1\n",
        "\n",
        "# Print the checkerboard matrix\n",
        "print(checkerboard)"
      ],
      "metadata": {
        "colab": {
          "base_uri": "https://localhost:8080/"
        },
        "id": "VzUIdn2pDShr",
        "outputId": "7c1498f2-5271-49db-c17f-c9bd3d1ba80a"
      },
      "execution_count": 21,
      "outputs": [
        {
          "output_type": "stream",
          "name": "stdout",
          "text": [
            "[[1 0 1 0 1 0]\n",
            " [0 1 0 1 0 1]\n",
            " [1 0 1 0 1 0]\n",
            " [0 1 0 1 0 1]\n",
            " [1 0 1 0 1 0]\n",
            " [0 1 0 1 0 1]]\n"
          ]
        }
      ]
    },
    {
      "cell_type": "markdown",
      "source": [
        "#### 20. Consider a (8,9,10) shape array, what is the index (x,y,z) of the 100th element? (★☆☆)\n",
        "`💡hint: np.unravel_index`"
      ],
      "metadata": {
        "id": "DSPoa4KuDX1-"
      }
    },
    {
      "cell_type": "code",
      "metadata": {
        "colab": {
          "base_uri": "https://localhost:8080/"
        },
        "id": "tRWJghCHDe7e",
        "outputId": "88984672-72f4-4c9f-c354-b0b87488121e"
      },
      "source": [
        "import numpy as np\n",
        "\n",
        "# Define the shape of the array\n",
        "shape = (8, 9, 10)\n",
        "\n",
        "# The index of the 100th element in the flattened array (0-based)\n",
        "flat_index = 99\n",
        "\n",
        "# Use np.unravel_index to get the multi-dimensional index\n",
        "index_3d = np.unravel_index(flat_index, shape)\n",
        "\n",
        "# Print the index\n",
        "print(f\"The index of the 100th element in an {shape} array is: {index_3d}\")"
      ],
      "execution_count": 22,
      "outputs": [
        {
          "output_type": "stream",
          "name": "stdout",
          "text": [
            "The index of the 100th element in an (8, 9, 10) array is: (np.int64(1), np.int64(0), np.int64(9))\n"
          ]
        }
      ]
    },
    {
      "cell_type": "markdown",
      "source": [
        "#### 21. Create a checkerboard 8x8 matrix using the tile function (★☆☆)\n",
        "`💡hint: np.tile`"
      ],
      "metadata": {
        "id": "o2TrX1zjDlyc"
      }
    },
    {
      "cell_type": "code",
      "source": [
        "import numpy as np\n",
        "\n",
        "# Create a small 2x2 checkerboard pattern\n",
        "checkerboard_pattern = np.array([[0, 1],\n",
        "                                 [1, 0]])\n",
        "\n",
        "# Use np.tile to repeat the pattern to create an 8x8 checkerboard\n",
        "checkerboard_matrix = np.tile(checkerboard_pattern, (4, 4))\n",
        "\n",
        "# Print the resulting matrix\n",
        "print(checkerboard_matrix)"
      ],
      "metadata": {
        "colab": {
          "base_uri": "https://localhost:8080/"
        },
        "id": "oeuadnDNDnQ3",
        "outputId": "f3bf534c-2cfe-49ca-e07d-7996352e0a65"
      },
      "execution_count": 23,
      "outputs": [
        {
          "output_type": "stream",
          "name": "stdout",
          "text": [
            "[[0 1 0 1 0 1 0 1]\n",
            " [1 0 1 0 1 0 1 0]\n",
            " [0 1 0 1 0 1 0 1]\n",
            " [1 0 1 0 1 0 1 0]\n",
            " [0 1 0 1 0 1 0 1]\n",
            " [1 0 1 0 1 0 1 0]\n",
            " [0 1 0 1 0 1 0 1]\n",
            " [1 0 1 0 1 0 1 0]]\n"
          ]
        }
      ]
    },
    {
      "cell_type": "markdown",
      "source": [
        "#### 22. Normalize a 6x6 random matrix (★☆☆)\n",
        "`💡hint: (x -mean)/std`\n"
      ],
      "metadata": {
        "id": "k6n-f65ZDpzx"
      }
    },
    {
      "cell_type": "code",
      "source": [
        "import numpy as np\n",
        "\n",
        "# Create a 6x6 random matrix\n",
        "random_matrix = np.random.rand(6, 6)\n",
        "print(\"Original random matrix:\")\n",
        "print(random_matrix)\n",
        "\n",
        "# Calculate the mean and standard deviation of the matrix\n",
        "mean_value = random_matrix.mean()\n",
        "std_dev = random_matrix.std()\n",
        "\n",
        "# Normalize the matrix using the formula (x - mean) / std\n",
        "normalized_matrix = (random_matrix - mean_value) / std_dev\n",
        "\n",
        "print(\"\\nNormalized matrix:\")\n",
        "print(normalized_matrix)"
      ],
      "metadata": {
        "colab": {
          "base_uri": "https://localhost:8080/"
        },
        "id": "IWZjnb6fDtcf",
        "outputId": "5574dd5c-cfc1-453d-eecb-150085f97f45"
      },
      "execution_count": 24,
      "outputs": [
        {
          "output_type": "stream",
          "name": "stdout",
          "text": [
            "Original random matrix:\n",
            "[[4.96717521e-01 1.93653898e-01 7.48195219e-01 7.61504633e-01\n",
            "  2.87437720e-01 2.03737761e-01]\n",
            " [8.27810837e-01 6.95299223e-01 4.12287307e-01 1.30459305e-01\n",
            "  3.39690752e-03 8.94714627e-01]\n",
            " [3.75808124e-01 5.76399658e-01 1.86621902e-02 8.49321043e-01\n",
            "  2.40819353e-01 5.78543421e-02]\n",
            " [8.39619945e-01 6.60762463e-01 2.99053020e-01 4.01424618e-01\n",
            "  5.15977906e-01 3.19011876e-02]\n",
            " [5.20535666e-01 1.80448523e-01 7.68285046e-01 2.67065589e-01\n",
            "  7.79082154e-01 4.05591846e-01]\n",
            " [8.27846973e-01 4.17226100e-01 4.74429534e-01 4.33151415e-04\n",
            "  6.13759521e-01 5.69647818e-02]]\n",
            "\n",
            "Normalized matrix:\n",
            "[[ 0.20189533 -0.8740048   1.09466129  1.14191077 -0.54106472 -0.83820627]\n",
            " [ 1.3773031   0.90687626 -0.09783869 -1.09835066 -1.54943234  1.61481691]\n",
            " [-0.22734271  0.48477329 -1.49523937  1.45366606 -0.70656365 -1.35610409]\n",
            " [ 1.41922638  0.784268   -0.49982947 -0.13640211  0.27027123 -1.44823986]\n",
            " [ 0.28645165 -0.92088493  1.16598178 -0.61338741  1.20431238 -0.12160811]\n",
            " [ 1.37743139 -0.08030558  0.12277119 -1.55995391  0.6174038  -1.3592621 ]]\n"
          ]
        }
      ]
    },
    {
      "cell_type": "markdown",
      "source": [
        "#### 23. find the number of elements of an array, length of one array element in bytes and total bytes consumed by the elements. (★☆☆)"
      ],
      "metadata": {
        "id": "MZTipyrpDyu8"
      }
    },
    {
      "cell_type": "code",
      "source": [
        "import numpy as np\n",
        "\n",
        "# Create a sample array\n",
        "my_array = np.array([[1, 2, 3, 4], [5, 6, 7, 8], [9, 10, 11, 12]])\n",
        "\n",
        "# Number of elements\n",
        "num_elements = my_array.size\n",
        "\n",
        "# Length of one array element in bytes\n",
        "element_size = my_array.itemsize\n",
        "\n",
        "# Total bytes consumed by the elements\n",
        "total_bytes = my_array.nbytes\n",
        "\n",
        "print(\"Sample array:\")\n",
        "print(my_array)\n",
        "print(f\"\\nNumber of elements: {num_elements}\")\n",
        "print(f\"Length of one array element (bytes): {element_size}\")\n",
        "print(f\"Total bytes consumed by elements: {total_bytes}\")"
      ],
      "metadata": {
        "colab": {
          "base_uri": "https://localhost:8080/"
        },
        "id": "xKSQoIAsDzw2",
        "outputId": "6ffa2b64-f137-4b04-de0b-fac62791cd2c"
      },
      "execution_count": 25,
      "outputs": [
        {
          "output_type": "stream",
          "name": "stdout",
          "text": [
            "Sample array:\n",
            "[[ 1  2  3  4]\n",
            " [ 5  6  7  8]\n",
            " [ 9 10 11 12]]\n",
            "\n",
            "Number of elements: 12\n",
            "Length of one array element (bytes): 8\n",
            "Total bytes consumed by elements: 96\n"
          ]
        }
      ]
    },
    {
      "cell_type": "markdown",
      "source": [
        "#### 24. Multiply a 6x3 matrix by a 3x4 matrix (real matrix product) (★☆☆)\n",
        "`💡hint: np.dot` or `np.ones`"
      ],
      "metadata": {
        "id": "j3gZS66oD98q"
      }
    },
    {
      "cell_type": "code",
      "source": [
        "import numpy as np\n",
        "\n",
        "# Create a 6x3 matrix (e.g., with random values)\n",
        "matrix_a = np.random.rand(6, 3)\n",
        "print(\"Matrix A (6x3):\")\n",
        "print(matrix_a)\n",
        "\n",
        "# Create a 3x4 matrix (e.g., with random values)\n",
        "matrix_b = np.random.rand(3, 4)\n",
        "print(\"\\nMatrix B (3x4):\")\n",
        "print(matrix_b)\n",
        "\n",
        "# Multiply the matrices using np.dot()\n",
        "# The result will be a 6x4 matrix\n",
        "matrix_product = np.dot(matrix_a, matrix_b)\n",
        "\n",
        "print(\"\\nMatrix Product (A * B, 6x4):\")\n",
        "print(matrix_product)"
      ],
      "metadata": {
        "colab": {
          "base_uri": "https://localhost:8080/"
        },
        "id": "tEgWx7G6D_gz",
        "outputId": "0aae7353-60fc-403c-e963-43c66bed8a89"
      },
      "execution_count": 26,
      "outputs": [
        {
          "output_type": "stream",
          "name": "stdout",
          "text": [
            "Matrix A (6x3):\n",
            "[[0.05759585 0.82259372 0.77168508]\n",
            " [0.22233251 0.27688678 0.63940668]\n",
            " [0.65442815 0.53893371 0.95306526]\n",
            " [0.30330457 0.76157417 0.6091695 ]\n",
            " [0.31827676 0.99359166 0.60000669]\n",
            " [0.17298577 0.49817814 0.64953511]]\n",
            "\n",
            "Matrix B (3x4):\n",
            "[[0.19935289 0.29578937 0.54029385 0.11557851]\n",
            " [0.87725014 0.98738147 0.06940885 0.74257724]\n",
            " [0.18721153 0.93721168 0.25993449 0.00903559]]\n",
            "\n",
            "Matrix Product (A * B, 6x4):\n",
            "[[0.8775707  1.55248231 0.28880154 0.62446885]\n",
            " [0.4069259  0.93841588 0.30554713 0.2370841 ]\n",
            " [0.78166662 1.61892995 0.63872481 0.48444925]\n",
            " [0.84259925 1.41259927 0.37507775 0.60608735]\n",
            " [1.04740599 1.63753016 0.39688947 0.78002593]\n",
            " [0.59311252 1.15181111 0.2968777  0.39579811]]\n"
          ]
        }
      ]
    },
    {
      "cell_type": "markdown",
      "source": [
        "#### 25. Given a 1D array, negate all elements which are between 3 and 8, in place. (★☆☆)\n",
        "`💡hint: >, <`"
      ],
      "metadata": {
        "id": "obALuR_2EEsS"
      }
    },
    {
      "cell_type": "code",
      "source": [
        "import numpy as np\n",
        "\n",
        "# Create a sample 1D array\n",
        "my_array = np.arange(10)\n",
        "print(\"Original array:\", my_array)\n",
        "\n",
        "# Create a boolean mask for elements between 3 and 8 (exclusive)\n",
        "mask = (my_array > 3) & (my_array < 8)\n",
        "\n",
        "# Negate the elements in place using the mask\n",
        "my_array[mask] = -my_array[mask]\n",
        "\n",
        "# Print the modified array\n",
        "print(\"Array after negating elements between 3 and 8:\", my_array)"
      ],
      "metadata": {
        "colab": {
          "base_uri": "https://localhost:8080/"
        },
        "id": "V_DR1_z1EK9T",
        "outputId": "1ceef48a-611b-4752-d89f-253afddafbc1"
      },
      "execution_count": 27,
      "outputs": [
        {
          "output_type": "stream",
          "name": "stdout",
          "text": [
            "Original array: [0 1 2 3 4 5 6 7 8 9]\n",
            "Array after negating elements between 3 and 8: [ 0  1  2  3 -4 -5 -6 -7  8  9]\n"
          ]
        }
      ]
    },
    {
      "cell_type": "markdown",
      "source": [
        "#### 26. What is the output of the following script? (★☆☆)\n",
        "```python\n",
        "\n",
        "print(sum(range(5),-1))\n",
        "from numpy import *\n",
        "print(sum(range(5),-1))\n",
        "```"
      ],
      "metadata": {
        "id": "clSg1KZSEPuo"
      }
    },
    {
      "cell_type": "code",
      "source": [
        "print(sum(range(5),-1))\n",
        "from numpy import *\n",
        "print(sum(range(5),-1))"
      ],
      "metadata": {
        "colab": {
          "base_uri": "https://localhost:8080/"
        },
        "id": "59gXE4NkERN4",
        "outputId": "374f8691-10ba-4a87-ade6-1ad667337a07"
      },
      "execution_count": 28,
      "outputs": [
        {
          "output_type": "stream",
          "name": "stdout",
          "text": [
            "9\n",
            "10\n"
          ]
        }
      ]
    },
    {
      "cell_type": "markdown",
      "source": [
        "#### 27. Write a Python program compare two arrays using numpy (★☆☆)\n",
        "```python\n",
        "Array a: [1 2]\n",
        "Array b: [4 5]\n",
        "a > b\n",
        "[False False]\n",
        "a >= b\n",
        "[False False]\n",
        "a < b\n",
        "[ True True]\n",
        "a <= b\n",
        "[ True True]\n",
        "```"
      ],
      "metadata": {
        "id": "xPy_jPHFEXRD"
      }
    },
    {
      "cell_type": "code",
      "source": [
        "import numpy as np\n",
        "\n",
        "# Define the two arrays\n",
        "a = np.array([1, 2])\n",
        "b = np.array([4, 5])\n",
        "\n",
        "print(f\"Array a: {a}\")\n",
        "print(f\"Array b: {b}\")\n",
        "\n",
        "# Perform element-wise comparisons\n",
        "print(f\"a > b \\n{a > b}\")\n",
        "print(f\"a >= b \\n{a >= b}\")\n",
        "print(f\"a < b \\n{a < b}\")\n",
        "print(f\"a <= b \\n{a <= b}\")"
      ],
      "metadata": {
        "colab": {
          "base_uri": "https://localhost:8080/"
        },
        "id": "_6yIa8lEEZAE",
        "outputId": "2f3a5b5c-86ef-4b67-b75a-82b024408a5f"
      },
      "execution_count": 29,
      "outputs": [
        {
          "output_type": "stream",
          "name": "stdout",
          "text": [
            "Array a: [1 2]\n",
            "Array b: [4 5]\n",
            "a > b \n",
            "[False False]\n",
            "a >= b \n",
            "[False False]\n",
            "a < b \n",
            "[ True  True]\n",
            "a <= b \n",
            "[ True  True]\n"
          ]
        }
      ]
    },
    {
      "cell_type": "markdown",
      "source": [
        "#### 28. What are the result of the following expressions? (★☆☆)\n",
        "```python\n",
        "np.array(0) / np.array(0)\n",
        "np.array(0) // np.array(0)\n",
        "np.array([np.nan]).astype(int).astype(float)\n",
        "```\n",
        "Consider an integer vector a\n",
        "```python\n",
        "a**a\n",
        "a << a >> 2\n",
        "a <- a\n",
        "1j*a\n",
        "a/1/1\n",
        "a<a>a\n",
        "```"
      ],
      "metadata": {
        "id": "FvAhuRzuEejr"
      }
    },
    {
      "cell_type": "code",
      "source": [
        "import numpy as np\n",
        "\n",
        "# Evaluate the first set of expressions\n",
        "print(f\"np.array(0) / np.array(0): {np.array(0) / np.array(0)}\")\n",
        "print(f\"np.array(0) // np.array(0): {np.array(0) // np.array(0)}\")\n",
        "print(f\"np.array([np.nan]).astype(int).astype(float): {np.array([np.nan]).astype(int).astype(float)}\")\n",
        "\n",
        "# Define an integer vector a for the second set of expressions\n",
        "a = np.arange(5) # Example integer vector\n",
        "\n",
        "print(f\"\\nConsidering integer vector a: {a}\")\n",
        "print(f\"a**a: {a**a}\")\n",
        "print(f\"a << a >> 2: {a << a >> 2}\")\n",
        "print(f\"a <- a: {a <- a}\") # This is a comparison: a is less than -a\n",
        "print(f\"1j*a: {1j*a}\")\n",
        "print(f\"a/1/1: {a/1/1}\")\n",
        "# The last expression 'a<a>a' is not valid Python/NumPy syntax.\n",
        "# It might be a typo or represent a concept not directly translatable to a single expression.\n",
        "# I will skip this last expression as it is syntactically incorrect."
      ],
      "metadata": {
        "colab": {
          "base_uri": "https://localhost:8080/"
        },
        "id": "wZd2PcgwEg0N",
        "outputId": "2d90bfb4-31b3-41d0-d93f-c93c8712dd7f"
      },
      "execution_count": 30,
      "outputs": [
        {
          "output_type": "stream",
          "name": "stdout",
          "text": [
            "np.array(0) / np.array(0): nan\n",
            "np.array(0) // np.array(0): 0\n",
            "np.array([np.nan]).astype(int).astype(float): [-9.22337204e+18]\n",
            "\n",
            "Considering integer vector a: [0 1 2 3 4]\n",
            "a**a: [  1   1   4  27 256]\n",
            "a << a >> 2: [ 0  0  2  6 16]\n",
            "a <- a: [False False False False False]\n",
            "1j*a: [0.+0.j 0.+1.j 0.+2.j 0.+3.j 0.+4.j]\n",
            "a/1/1: [0. 1. 2. 3. 4.]\n"
          ]
        },
        {
          "output_type": "stream",
          "name": "stderr",
          "text": [
            "/tmp/ipython-input-1453930898.py:4: RuntimeWarning: invalid value encountered in divide\n",
            "  print(f\"np.array(0) / np.array(0): {np.array(0) / np.array(0)}\")\n",
            "/tmp/ipython-input-1453930898.py:5: RuntimeWarning: divide by zero encountered in floor_divide\n",
            "  print(f\"np.array(0) // np.array(0): {np.array(0) // np.array(0)}\")\n",
            "/tmp/ipython-input-1453930898.py:6: RuntimeWarning: invalid value encountered in cast\n",
            "  print(f\"np.array([np.nan]).astype(int).astype(float): {np.array([np.nan]).astype(int).astype(float)}\")\n"
          ]
        }
      ]
    },
    {
      "cell_type": "markdown",
      "source": [
        "#### 29. How to round away from zero a float array ? (★☆☆)\n",
        "`💡hint: np.uniform, np.copysign, np.ceil, np.abs, np.where`"
      ],
      "metadata": {
        "id": "KOUja5sLEnbX"
      }
    },
    {
      "cell_type": "code",
      "source": [
        "import numpy as np\n",
        "\n",
        "# Create a sample float array\n",
        "float_array = np.array([-3.2, -1.8, 0.5, 2.1, 4.7])\n",
        "print(\"Original array:\", float_array)\n",
        "\n",
        "# Round away from zero\n",
        "# Take the absolute value, apply ceil, and then copy the original sign\n",
        "rounded_array = np.copysign(np.ceil(np.abs(float_array)), float_array)\n",
        "\n",
        "# Print the rounded array\n",
        "print(\"Rounded away from zero:\", rounded_array)"
      ],
      "metadata": {
        "colab": {
          "base_uri": "https://localhost:8080/"
        },
        "id": "_G0wL4r9Eo9P",
        "outputId": "cdeb113f-f80c-466e-e74c-74c7e17085c4"
      },
      "execution_count": 31,
      "outputs": [
        {
          "output_type": "stream",
          "name": "stdout",
          "text": [
            "Original array: [-3.2 -1.8  0.5  2.1  4.7]\n",
            "Rounded away from zero: [-4. -2.  1.  3.  5.]\n"
          ]
        }
      ]
    },
    {
      "cell_type": "markdown",
      "source": [
        "#### 30. How to find common values between two arrays? (★☆☆)\n",
        "`💡hint: np.intersect1d`"
      ],
      "metadata": {
        "id": "hmOazCouEtBR"
      }
    },
    {
      "cell_type": "code",
      "source": [
        "import numpy as np\n",
        "\n",
        "# Create two sample arrays\n",
        "array1 = np.array([1, 2, 3, 4, 5])\n",
        "array2 = np.array([3, 4, 5, 6, 7])\n",
        "\n",
        "# Find the common values\n",
        "common_values = np.intersect1d(array1, array2)\n",
        "\n",
        "# Print the common values\n",
        "print(\"Array 1:\", array1)\n",
        "print(\"Array 2:\", array2)\n",
        "print(\"Common values:\", common_values)"
      ],
      "metadata": {
        "colab": {
          "base_uri": "https://localhost:8080/"
        },
        "id": "hsYcfY44Euqe",
        "outputId": "b4c640d1-4a32-4f5f-d6df-250340f9ce86"
      },
      "execution_count": 32,
      "outputs": [
        {
          "output_type": "stream",
          "name": "stdout",
          "text": [
            "Array 1: [1 2 3 4 5]\n",
            "Array 2: [3 4 5 6 7]\n",
            "Common values: [3 4 5]\n"
          ]
        }
      ]
    }
  ]
}